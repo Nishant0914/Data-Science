{
 "cells": [
  {
   "cell_type": "markdown",
   "id": "32ea3939",
   "metadata": {},
   "source": [
    "1. Declare two variables, `x` and `y`, and assign them integer values.\n",
    "Swap the values of these variables without using any temporary\n",
    "variable."
   ]
  },
  {
   "cell_type": "code",
   "execution_count": 1,
   "id": "9258b5a5",
   "metadata": {},
   "outputs": [
    {
     "name": "stdout",
     "output_type": "stream",
     "text": [
      "after swapping :\n",
      "x: 72\n",
      "y: 64\n"
     ]
    }
   ],
   "source": [
    "x=64\n",
    "y=72\n",
    "x=x+y  #store the value of x as the sum of x and y\n",
    "y=x-y #store the value of y as the difference of x w.r.t. y so that y become x \n",
    "x=x-y # here we use the basic math as x+y-(x)= y\n",
    "print (\"after swapping :\")\n",
    "print (\"x:\",x)\n",
    "print (\"y:\",y)"
   ]
  },
  {
   "cell_type": "code",
   "execution_count": null,
   "id": "8726b0c0",
   "metadata": {},
   "outputs": [],
   "source": []
  },
  {
   "cell_type": "markdown",
   "id": "f283371f",
   "metadata": {},
   "source": [
    "2. Create a program that calculates the area of a rectangle. Take the\n",
    "length and width as inputs from the user and store them in variables.\n",
    "Calculate and display the area."
   ]
  },
  {
   "cell_type": "code",
   "execution_count": 2,
   "id": "f9489808",
   "metadata": {},
   "outputs": [
    {
     "name": "stdout",
     "output_type": "stream",
     "text": [
      "Length of rectangle:24\n",
      "width of rectangle:4\n",
      "Area of rectangle: 96.0 unit sq.\n"
     ]
    }
   ],
   "source": [
    "l=float(input (\"Length of rectangle:\")) #put down the length of rec.\n",
    "w=float(input (\"width of rectangle:\")) #put down the width of rec.\n",
    "Area=l*w #using the formula of area of rectangle\n",
    "print (\"Area of rectangle:\",Area, \"unit sq.\")"
   ]
  },
  {
   "cell_type": "code",
   "execution_count": null,
   "id": "1a58fb9c",
   "metadata": {},
   "outputs": [],
   "source": []
  },
  {
   "cell_type": "markdown",
   "id": "393616a1",
   "metadata": {},
   "source": [
    "3. Write a Python program that converts temperature from Celsius to\n",
    "Fahrenheit. Take the temperature in Celsius as input, store it in a\n",
    "variable, convert it to Fahrenheit, and display the result."
   ]
  },
  {
   "cell_type": "code",
   "execution_count": 3,
   "id": "3a58f765",
   "metadata": {},
   "outputs": [
    {
     "name": "stdout",
     "output_type": "stream",
     "text": [
      "Enter the value of Temerature in Celcius:37\n",
      "Temperature in Fahrenheit {98.6} °F\n"
     ]
    }
   ],
   "source": [
    "cel=float(input(\"Enter the value of Temerature in Celcius:\"))\n",
    "fahr={(cel*9/5)+32} # using the formula of degree C to degree F conversion\n",
    "print (\"Temperature in Fahrenheit\",fahr,\"°F\")"
   ]
  },
  {
   "cell_type": "code",
   "execution_count": null,
   "id": "d354c6c6",
   "metadata": {},
   "outputs": [],
   "source": []
  },
  {
   "cell_type": "markdown",
   "id": "d8694c93",
   "metadata": {},
   "source": [
    "# TOPIC: String Based Questions:-"
   ]
  },
  {
   "cell_type": "code",
   "execution_count": null,
   "id": "cc3ad5f2",
   "metadata": {},
   "outputs": [],
   "source": []
  },
  {
   "cell_type": "markdown",
   "id": "a32c665b",
   "metadata": {},
   "source": [
    "1. Write a Python program that takes a string as input and prints the\n",
    "length of the string."
   ]
  },
  {
   "cell_type": "code",
   "execution_count": 4,
   "id": "64e8163b",
   "metadata": {},
   "outputs": [
    {
     "name": "stdout",
     "output_type": "stream",
     "text": [
      "enter the string:Nishant\n",
      "length of string 7\n"
     ]
    }
   ],
   "source": [
    "s1=input(\"enter the string:\")   #taking input\n",
    "print (\"length of string\",len(s1)) #counting the len.str()"
   ]
  },
  {
   "cell_type": "code",
   "execution_count": null,
   "id": "03e0656e",
   "metadata": {},
   "outputs": [],
   "source": []
  },
  {
   "cell_type": "markdown",
   "id": "af428ac1",
   "metadata": {},
   "source": [
    "2. Create a program that takes a sentence from the user and counts the\n",
    "number of vowels (a, e, i, o, u) in the string."
   ]
  },
  {
   "cell_type": "code",
   "execution_count": 5,
   "id": "a9b9724c",
   "metadata": {},
   "outputs": [
    {
     "name": "stdout",
     "output_type": "stream",
     "text": [
      "Enter a sentence :Happy\n",
      "1\n"
     ]
    }
   ],
   "source": [
    "sentence = input(\"Enter a sentence :\")\n",
    "counts=0\n",
    "for i in sentence:    # use the conscept of loop for multiple check clycle for individual vowels\n",
    "    if i in 'aAeEiIoOuU':  # all vowels in lowwer as well as in upper case\n",
    "        counts+=1\n",
    "        \n",
    "print(counts)"
   ]
  },
  {
   "cell_type": "code",
   "execution_count": null,
   "id": "c4ad6712",
   "metadata": {},
   "outputs": [],
   "source": []
  },
  {
   "cell_type": "markdown",
   "id": "c1f2a319",
   "metadata": {},
   "source": [
    "3. Given a string, reverse the order of characters using string slicing and\n",
    "print the reversed string."
   ]
  },
  {
   "cell_type": "code",
   "execution_count": 6,
   "id": "4d23fb77",
   "metadata": {},
   "outputs": [
    {
     "name": "stdout",
     "output_type": "stream",
     "text": [
      "Gaya college of engineering\n",
      "reverse of string is = gnireenigne fo egelloc ayaG\n"
     ]
    }
   ],
   "source": [
    "string = input()\n",
    "print(f\"reverse of string is = {string[::-1]}\") '''  reverse sclicing with negative scaling as the size of input is not define so initial and final point be blank '''"
   ]
  },
  {
   "cell_type": "code",
   "execution_count": null,
   "id": "c993d015",
   "metadata": {},
   "outputs": [],
   "source": []
  },
  {
   "cell_type": "markdown",
   "id": "f0e191b6",
   "metadata": {},
   "source": [
    "4. Write a program that takes a string as input and checks if it is a\n",
    "palindrome (reads the same forwards and backwards)."
   ]
  },
  {
   "cell_type": "code",
   "execution_count": 7,
   "id": "4c8ffaa5",
   "metadata": {},
   "outputs": [
    {
     "name": "stdout",
     "output_type": "stream",
     "text": [
      "madam\n",
      "is a palindrome string\n"
     ]
    }
   ],
   "source": [
    "string = input()\n",
    "if string==string[::-1]:     #use conditioning statement as if (....) else(...)\n",
    "    print(\"is a palindrome string\") \n",
    "else:\n",
    "    print(\"is not palindrome string\")"
   ]
  },
  {
   "cell_type": "code",
   "execution_count": null,
   "id": "822a78db",
   "metadata": {},
   "outputs": [],
   "source": []
  },
  {
   "cell_type": "markdown",
   "id": "4e1955f8",
   "metadata": {},
   "source": [
    "5. Create a program that takes a string as input and removes all the\n",
    "spaces from it. Print the modified string without spaces."
   ]
  },
  {
   "cell_type": "code",
   "execution_count": 9,
   "id": "a895cbf6",
   "metadata": {},
   "outputs": [
    {
     "name": "stdout",
     "output_type": "stream",
     "text": [
      "Enter any string:-Hello Shivam\n",
      "modified string:-  HelloShivam\n"
     ]
    }
   ],
   "source": [
    "def space_remover(sentence):      # creating the function called space_remover\n",
    "    remove_space=sentence.replace(' ','')  # removing space from the sentence\n",
    "    return remove_space\n",
    "\n",
    "user_input=input(\"Enter any string:-\")   # taking input\n",
    "result=space_remover(user_input)         \n",
    "print(\"modified string:- \",result)       # output string"
   ]
  },
  {
   "cell_type": "code",
   "execution_count": null,
   "id": "e9279d7a",
   "metadata": {},
   "outputs": [],
   "source": []
  }
 ],
 "metadata": {
  "kernelspec": {
   "display_name": "Python 3 (ipykernel)",
   "language": "python",
   "name": "python3"
  },
  "language_info": {
   "codemirror_mode": {
    "name": "ipython",
    "version": 3
   },
   "file_extension": ".py",
   "mimetype": "text/x-python",
   "name": "python",
   "nbconvert_exporter": "python",
   "pygments_lexer": "ipython3",
   "version": "3.10.9"
  }
 },
 "nbformat": 4,
 "nbformat_minor": 5
}
